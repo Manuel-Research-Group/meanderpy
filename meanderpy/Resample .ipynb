{
 "cells": [
  {
   "cell_type": "code",
   "execution_count": 1,
   "metadata": {},
   "outputs": [],
   "source": [
    "import meanderpyp as mp\n",
    "import numpy as np\n",
    "import matplotlib.pyplot as plt"
   ]
  },
  {
   "cell_type": "code",
   "execution_count": 10,
   "metadata": {},
   "outputs": [
    {
     "data": {
      "image/png": "[encoded data removed]",
      "text/plain": [
       "<Figure size 432x288 with 2 Axes>"
      ]
     },
     "metadata": {
      "needs_background": "light"
     },
     "output_type": "display_data"
    }
   ],
   "source": [
    "N = 300\n",
    "\n",
    "L = 10000\n",
    "ds = 250\n",
    "\n",
    "Cf = 0.02\n",
    "kl = 60.0/(365*24*60*60.0)\n",
    "dt = 2 * 0.05*365*24*60*60.0\n",
    "\n",
    "\n",
    "x = np.linspace(0, L, int(L/ds) + 1)\n",
    "y = 200 * np.sin((x / 10000) * 10 * np.pi)\n",
    "z = 2000 - 0.2 * x\n",
    "d = 100 * np.ones(len(x))\n",
    "w = 100 * np.ones(len(x))\n",
    "\n",
    "ch_resample = mp.Channel(x.copy(), y.copy(), z.copy(), d.copy(), w.copy())\n",
    "ch_no_resample = mp.Channel(x.copy(), y.copy(), z.copy(), d.copy(), w.copy())\n",
    "\n",
    "for i in range(N):\n",
    "    ch_resample.migrate(Cf,kl,dt)\n",
    "    ch_resample.resample(ds)\n",
    "    \n",
    "    ch_no_resample.migrate(Cf,kl,dt)\n",
    "    \n",
    "fig, [ax1, ax2] = plt.subplots(2, 1)\n",
    "ch_resample.plot(ax1, 'blue', True)\n",
    "ch_no_resample.plot(ax2, 'blue', True)"
   ]
  }
 ],
 "metadata": {
  "kernelspec": {
   "display_name": "Python 3",
   "language": "python",
   "name": "python3"
  },
  "language_info": {
   "codemirror_mode": {
    "name": "ipython",
    "version": 3
   },
   "file_extension": ".py",
   "mimetype": "text/x-python",
   "name": "python",
   "nbconvert_exporter": "python",
   "pygments_lexer": "ipython3",
   "version": "3.8.5"
  }
 },
 "nbformat": 4,
 "nbformat_minor": 4
}
